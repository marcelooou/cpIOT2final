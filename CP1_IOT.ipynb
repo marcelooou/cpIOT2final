{
 "cells": [
  {
   "cell_type": "markdown",
   "id": "344615ba",
   "metadata": {},
   "source": [
    "📘 CP1 IOT - Análise de Consumo de Energia\n",
    "Este notebook Jupytr organiza a resolução completa das tarefas do CP1 de IoT. Ele usa dois conjuntos de dados para demonstrar habilidades em ciência de dados: o Individual Household Electric Power Consumption e o Appliances Energy Prediction.\n",
    "\n",
    "As principais etapas e técnicas usadas neste projeto incluem:\n",
    "\n",
    "Preparação e Limpeza de Dados: Trata dados ausentes, converte formatos e prepara as informações para análise.\n",
    "\n",
    "Análise e Visualização: Explora os dados com gráficos, estatísticas e decomposição de séries temporais para entender padrões de consumo.\n",
    "\n",
    "Modelagem Preditiva: Aplica modelos de aprendizado de máquina, como regressão linear e random forest, para prever o consumo de energia.\n",
    "\n",
    "Clustering: Usa a técnica K-Means para agrupar e identificar diferentes perfis de consumo.\n",
    "\n",
    "Análise com Ferramentas Visuais: Inclui respostas e conclusões de exercícios feitos com a ferramenta de mineração de dados Orange Data Mining.\n",
    "\n"
   ]
  },
  {
   "cell_type": "code",
   "execution_count": null,
   "id": "91a7dec1",
   "metadata": {},
   "outputs": [],
   "source": [
    "#CP1 IOT\n",
    "\n",
    "#PARTE 1 – Exercícios iniciais com Individual Household Electric Power Consumption"
   ]
  },
  {
   "cell_type": "markdown",
   "id": "fb639079",
   "metadata": {},
   "source": [
    "## Questão 1"
   ]
  },
  {
   "cell_type": "code",
   "execution_count": null,
   "id": "feefcc2c",
   "metadata": {},
   "outputs": [],
   "source": [
    "\n",
    "import pandas as pd\n",
    "import numpy as np\n",
    "import matplotlib.pyplot as plt\n",
    "\n",
    "from sklearn.cluster import KMeans\n",
    "from sklearn.metrics import silhouette_score\n",
    "\n",
    "import warnings\n",
    "warnings.filterwarnings('ignore')"
   ]
  },
  {
   "cell_type": "markdown",
   "id": "f544ac18",
   "metadata": {},
   "source": [
    "## Questão 2"
   ]
  },
  {
   "cell_type": "code",
   "execution_count": null,
   "id": "e97db25e",
   "metadata": {},
   "outputs": [],
   "source": [
    "\n",
    "#Global_active_power: é a potência ativa consumida (energia efetivamente usada pelos aparelhos) e Global_reactive_power: é a potência reativa, associada a campos magnéticos\n",
    "#(como em motores, transformadores). Não realiza trabalho útil, mas circula na rede."
   ]
  },
  {
   "cell_type": "markdown",
   "id": "e56a540c",
   "metadata": {},
   "source": [
    "## Questão 3"
   ]
  },
  {
   "cell_type": "code",
   "execution_count": null,
   "id": "116913da",
   "metadata": {},
   "outputs": [],
   "source": [
    "\n",
    "missing = df.isnull().sum()\n",
    "print(\"Valores ausentes por coluna:\")\n",
    "print(missing)\n",
    "print(\"Total de valores ausentes:\", missing.sum())"
   ]
  },
  {
   "cell_type": "markdown",
   "id": "aa395391",
   "metadata": {},
   "source": [
    "## Questão 4"
   ]
  },
  {
   "cell_type": "code",
   "execution_count": null,
   "id": "387f6e4f",
   "metadata": {},
   "outputs": [],
   "source": [
    "\n",
    "df[\"Date\"] = pd.to_datetime(df[\"Date\"], format=\"%d/%m/%Y\")\n",
    "df[\"Weekday\"] = df[\"Date\"].dt.day_name()\n",
    "\n",
    "print(df[[\"Date\", \"Weekday\"]].head())"
   ]
  },
  {
   "cell_type": "markdown",
   "id": "0abfe1ce",
   "metadata": {},
   "source": [
    "## Questão 5"
   ]
  },
  {
   "cell_type": "code",
   "execution_count": null,
   "id": "eb021e0c",
   "metadata": {},
   "outputs": [],
   "source": [
    "\n",
    "df_2007 = df[df[\"Date\"].dt.year == 2007]\n",
    "\n",
    "df_2007[\"Global_active_power\"] = pd.to_numeric(df_2007[\"Global_active_power\"], errors=\"coerce\")\n",
    "\n",
    "daily_mean = df_2007.groupby(df_2007[\"Date\"].dt.date)[\"Global_active_power\"].mean()\n",
    "\n",
    "print(\"Média de consumo diário em 2007:\")\n",
    "print(daily_mean.head())"
   ]
  },
  {
   "cell_type": "markdown",
   "id": "babc904d",
   "metadata": {},
   "source": [
    "## Questão 6"
   ]
  },
  {
   "cell_type": "code",
   "execution_count": null,
   "id": "934625d3",
   "metadata": {},
   "outputs": [],
   "source": [
    "import matplotlib.pyplot as plt\n",
    "\n",
    "one_day = df[df[\"Date\"] == \"2007-01-10\"].copy()\n",
    "\n",
    "one_day[\"Global_active_power\"] = pd.to_numeric(one_day[\"Global_active_power\"], errors=\"coerce\")\n",
    "\n",
    "plt.figure(figsize=(12,5))\n",
    "plt.plot(one_day[\"Global_active_power\"])\n",
    "plt.title(\"Variação de Global Active Power em 10/01/2007\")\n",
    "plt.xlabel(\"Registros ao longo do dia\")\n",
    "plt.ylabel(\"Global Active Power (kW)\")\n",
    "plt.show()"
   ]
  },
  {
   "cell_type": "markdown",
   "id": "5b0a6932",
   "metadata": {},
   "source": [
    "## Questão 7"
   ]
  },
  {
   "cell_type": "code",
   "execution_count": null,
   "id": "758e6c72",
   "metadata": {},
   "outputs": [],
   "source": [
    "\n",
    "df[\"Voltage\"] = pd.to_numeric(df[\"Voltage\"], errors=\"coerce\")\n",
    "\n",
    "plt.figure(figsize=(8,5))\n",
    "plt.hist(df[\"Voltage\"].dropna(), bins=50, color=\"skyblue\", edgecolor=\"black\")\n",
    "plt.title(\"Distribuição da variável Voltage\")\n",
    "plt.xlabel(\"Voltage (V)\")\n",
    "plt.ylabel(\"Frequência\")\n",
    "plt.show()"
   ]
  },
  {
   "cell_type": "markdown",
   "id": "7baf8232",
   "metadata": {},
   "source": [
    "## Questão 8"
   ]
  },
  {
   "cell_type": "code",
   "execution_count": null,
   "id": "1369945d",
   "metadata": {},
   "outputs": [],
   "source": [
    "\n",
    "df[\"Global_active_power\"] = pd.to_numeric(df[\"Global_active_power\"], errors=\"coerce\")\n",
    "\n",
    "monthly_mean = df.groupby([df[\"Date\"].dt.to_period(\"M\")])[\"Global_active_power\"].mean()\n",
    "\n",
    "print(\"Consumo médio por mês:\")\n",
    "print(monthly_mean)"
   ]
  },
  {
   "cell_type": "markdown",
   "id": "0ecde330",
   "metadata": {},
   "source": [
    "## Questão 9"
   ]
  },
  {
   "cell_type": "code",
   "execution_count": null,
   "id": "3248104a",
   "metadata": {},
   "outputs": [],
   "source": [
    "\n",
    "daily_sum = df.groupby(df[\"Date\"].dt.date)[\"Global_active_power\"].sum()\n",
    "\n",
    "max_day = daily_sum.idxmax()\n",
    "max_value = daily_sum.max()\n",
    "\n",
    "print(f\"Dia de maior consumo: {max_day} com {max_value} kW\")"
   ]
  },
  {
   "cell_type": "markdown",
   "id": "c2d7b149",
   "metadata": {},
   "source": [
    "## Questão 10"
   ]
  },
  {
   "cell_type": "code",
   "execution_count": null,
   "id": "d2dc422e",
   "metadata": {},
   "outputs": [],
   "source": [
    "\n",
    "df[\"is_weekend\"] = df[\"Weekday\"].isin([\"Saturday\", \"Sunday\"])\n",
    "\n",
    "week_comparison = df.groupby(\"is_weekend\")[\"Global_active_power\"].mean()\n",
    "\n",
    "print(\"Consumo médio - Dias de semana vs Finais de semana:\")\n",
    "print(week_comparison)"
   ]
  },
  {
   "cell_type": "markdown",
   "id": "36b47efa",
   "metadata": {},
   "source": [
    "## Questão 11"
   ]
  },
  {
   "cell_type": "code",
   "execution_count": null,
   "id": "d88e6090",
   "metadata": {},
   "outputs": [],
   "source": [
    "\n",
    "for col in [\"Global_active_power\", \"Global_reactive_power\", \"Voltage\", \"Global_intensity\"]:\n",
    "    df[col] = pd.to_numeric(df[col], errors=\"coerce\")\n",
    "\n",
    "correlation = df[[\"Global_active_power\", \"Global_reactive_power\", \"Voltage\", \"Global_intensity\"]].corr()\n",
    "\n",
    "print(\"Matriz de correlação:\")\n",
    "print(correlation)"
   ]
  },
  {
   "cell_type": "markdown",
   "id": "0036d3ef",
   "metadata": {},
   "source": [
    "## Questão 12"
   ]
  },
  {
   "cell_type": "code",
   "execution_count": null,
   "id": "ad9f0e58",
   "metadata": {},
   "outputs": [],
   "source": [
    "\n",
    "for col in [\"Sub_metering_1\", \"Sub_metering_2\", \"Sub_metering_3\"]:\n",
    "    df[col] = pd.to_numeric(df[col], errors=\"coerce\")\n",
    "\n",
    "df[\"Total_Sub_metering\"] = df[\"Sub_metering_1\"] + df[\"Sub_metering_2\"] + df[\"Sub_metering_3\"]\n",
    "\n",
    "print(df[[\"Sub_metering_1\", \"Sub_metering_2\", \"Sub_metering_3\", \"Total_Sub_metering\"]].head())"
   ]
  },
  {
   "cell_type": "markdown",
   "id": "92847d7a",
   "metadata": {},
   "source": [
    "## Questão 13"
   ]
  },
  {
   "cell_type": "code",
   "execution_count": null,
   "id": "3191d994",
   "metadata": {},
   "outputs": [],
   "source": [
    "\n",
    "monthly_total = df.groupby(df[\"Date\"].dt.to_period(\"M\"))[\"Total_Sub_metering\"].mean()\n",
    "monthly_global = df.groupby(df[\"Date\"].dt.to_period(\"M\"))[\"Global_active_power\"].mean()\n",
    "\n",
    "comparison = monthly_total > monthly_global\n",
    "\n",
    "print(\"Meses em que Total_Sub_metering > Global_active_power:\")\n",
    "print(comparison[comparison == True])"
   ]
  },
  {
   "cell_type": "markdown",
   "id": "9dbc0dc1",
   "metadata": {},
   "source": [
    "## Questão 14"
   ]
  },
  {
   "cell_type": "code",
   "execution_count": null,
   "id": "da9ac4a7",
   "metadata": {},
   "outputs": [],
   "source": [
    "\n",
    "voltage_2008 = df[df[\"Date\"].dt.year == 2008]\n",
    "\n",
    "plt.figure(figsize=(12,5))\n",
    "plt.plot(voltage_2008[\"Date\"], voltage_2008[\"Voltage\"], color=\"orange\")\n",
    "plt.title(\"Série Temporal do Voltage em 2008\")\n",
    "plt.xlabel(\"Data\")\n",
    "plt.ylabel(\"Voltage (V)\")\n",
    "plt.show()"
   ]
  },
  {
   "cell_type": "markdown",
   "id": "022f09db",
   "metadata": {},
   "source": [
    "## Questão 15"
   ]
  },
  {
   "cell_type": "code",
   "execution_count": null,
   "id": "95915848",
   "metadata": {},
   "outputs": [],
   "source": [
    "\n",
    "df[\"Month\"] = df[\"Date\"].dt.month\n",
    "\n",
    "summer = df[df[\"Month\"].isin([6,7,8])]\n",
    "winter = df[df[\"Month\"].isin([12,1,2])]\n",
    "\n",
    "summer_mean = summer[\"Global_active_power\"].mean()\n",
    "winter_mean = winter[\"Global_active_power\"].mean()\n",
    "\n",
    "print(\"Média consumo verão:\", summer_mean)\n",
    "print(\"Média consumo inverno:\", winter_mean)"
   ]
  },
  {
   "cell_type": "markdown",
   "id": "4325e2b7",
   "metadata": {},
   "source": [
    "## Questão 16"
   ]
  },
  {
   "cell_type": "code",
   "execution_count": null,
   "id": "b5b2b503",
   "metadata": {},
   "outputs": [],
   "source": [
    "sample = df.sample(frac=0.01, random_state=42)\n",
    "\n",
    "plt.figure(figsize=(12,5))\n",
    "\n",
    "plt.hist(df[\"Global_active_power\"].dropna(), bins=50, alpha=0.5, label=\"Base completa\")\n",
    "\n",
    "plt.hist(sample[\"Global_active_power\"].dropna(), bins=50, alpha=0.5, label=\"Amostra 1%\")\n",
    "\n",
    "plt.title(\"Distribuição Global Active Power - Base Completa vs Amostra 1%\")\n",
    "plt.xlabel(\"Global Active Power (kW)\")\n",
    "plt.ylabel(\"Frequência\")\n",
    "plt.legend()\n",
    "plt.show()"
   ]
  },
  {
   "cell_type": "markdown",
   "id": "87ccca17",
   "metadata": {},
   "source": [
    "## Questão 17"
   ]
  },
  {
   "cell_type": "code",
   "execution_count": null,
   "id": "efb68fd6",
   "metadata": {},
   "outputs": [],
   "source": [
    "\n",
    "from sklearn.preprocessing import MinMaxScaler\n",
    "\n",
    "scaler = MinMaxScaler()\n",
    "\n",
    "cols = [\"Global_active_power\", \"Global_reactive_power\", \"Voltage\", \"Global_intensity\"]\n",
    "df_scaled = df.copy()\n",
    "df_scaled[cols] = scaler.fit_transform(df[cols])\n",
    "\n",
    "print(df_scaled[cols].head())"
   ]
  },
  {
   "cell_type": "markdown",
   "id": "1478f7dc",
   "metadata": {},
   "source": [
    "## Questão 18"
   ]
  },
  {
   "cell_type": "code",
   "execution_count": null,
   "id": "8f7f9cc0",
   "metadata": {},
   "outputs": [],
   "source": [
    "\n",
    "from sklearn.cluster import KMeans\n",
    "\n",
    "daily_data = df.groupby(df[\"Date\"].dt.date)[\"Global_active_power\"].mean().dropna().values.reshape(-1,1)\n",
    "\n",
    "kmeans = KMeans(n_clusters=3, random_state=42)\n",
    "labels = kmeans.fit_predict(daily_data)\n",
    "\n",
    "print(\"Cluster centers:\", kmeans.cluster_centers_)\n",
    "\n",
    "import numpy as np\n",
    "unique, counts = np.unique(labels, return_counts=True)\n",
    "print(\"Distribuição de dias por cluster:\", dict(zip(unique, counts)))"
   ]
  },
  {
   "cell_type": "markdown",
   "id": "e90f7d0d",
   "metadata": {},
   "source": [
    "## Questão 19"
   ]
  },
  {
   "cell_type": "code",
   "execution_count": null,
   "id": "274b072a",
   "metadata": {},
   "outputs": [],
   "source": [
    "\n",
    "from statsmodels.tsa.seasonal import seasonal_decompose\n",
    "\n",
    "six_months = df[(df[\"Date\"] >= \"2007-01-01\") & (df[\"Date\"] <= \"2007-06-30\")]\n",
    "\n",
    "series = six_months.groupby(\"Date\")[\"Global_active_power\"].mean()\n",
    "\n",
    "decomposition = seasonal_decompose(series, model=\"additive\", period=30)\n",
    "decomposition.plot()\n",
    "plt.show()\n",
    "\n",
    "# uestão 20\n",
    "\n",
    "from sklearn.linear_model import LinearRegression\n",
    "from sklearn.metrics import mean_squared_error\n",
    "\n",
    "X = df[[\"Global_intensity\"]].dropna()\n",
    "y = df[\"Global_active_power\"].dropna()\n",
    "\n",
    "valid = X.index.intersection(y.index)\n",
    "X = X.loc[valid]\n",
    "y = y.loc[valid]\n",
    "\n",
    "model = LinearRegression()\n",
    "model.fit(X, y)\n",
    "\n",
    "y_pred = model.predict(X)\n",
    "\n",
    "mse = mean_squared_error(y, y_pred)\n",
    "print(\"Coeficiente angular:\", model.coef_[0])\n",
    "print(\"Intercepto:\", model.intercept_)\n",
    "print(\"Erro quadrático médio (MSE):\", mse)\n",
    "\n",
    "#PARTE 2 – Exercícios adicionais no dataset inicial"
   ]
  },
  {
   "cell_type": "markdown",
   "id": "a5d451d7",
   "metadata": {},
   "source": [
    "## Questão 21"
   ]
  },
  {
   "cell_type": "code",
   "execution_count": null,
   "id": "9e77718a",
   "metadata": {},
   "outputs": [],
   "source": [
    "\n",
    "df[\"Datetime\"] = pd.to_datetime(df[\"Date\"].astype(str) + \" \" + df[\"Time\"], errors=\"coerce\")\n",
    "\n",
    "df.set_index(\"Datetime\", inplace=True)\n",
    "\n",
    "hourly = df[\"Global_active_power\"].resample(\"H\").mean()\n",
    "\n",
    "print(\"Consumo médio horário:\")\n",
    "print(hourly.head())\n",
    "\n",
    "print(\"Top 5 horários de maior consumo:\")\n",
    "print(hourly.groupby(hourly.index.hour).mean().sort_values(ascending=False).head())"
   ]
  },
  {
   "cell_type": "markdown",
   "id": "94b973fd",
   "metadata": {},
   "source": [
    "## Questão 22"
   ]
  },
  {
   "cell_type": "code",
   "execution_count": null,
   "id": "5950cf7e",
   "metadata": {},
   "outputs": [],
   "source": [
    "\n",
    "from pandas.plotting import autocorrelation_plot\n",
    "\n",
    "autocorrelation_plot(hourly.dropna())\n",
    "plt.show()\n",
    "\n",
    "lag_1h = hourly.autocorr(lag=1)\n",
    "lag_24h = hourly.autocorr(lag=24)\n",
    "lag_48h = hourly.autocorr(lag=48)\n",
    "\n",
    "print(\"Autocorrelação 1h:\", lag_1h)\n",
    "print(\"Autocorrelação 24h:\", lag_24h)\n",
    "print(\"Autocorrelação 48h:\", lag_48h)"
   ]
  },
  {
   "cell_type": "markdown",
   "id": "96e3b077",
   "metadata": {},
   "source": [
    "## Questão 23"
   ]
  },
  {
   "cell_type": "code",
   "execution_count": null,
   "id": "ec2a8132",
   "metadata": {},
   "outputs": [],
   "source": [
    "\n",
    "from sklearn.decomposition import PCA\n",
    "from sklearn.preprocessing import StandardScaler\n",
    "\n",
    "features = [\"Global_active_power\", \"Global_reactive_power\", \"Voltage\", \"Global_intensity\"]\n",
    "X = df[features].dropna()\n",
    "\n",
    "scaler = StandardScaler()\n",
    "X_scaled = scaler.fit_transform(X)\n",
    "\n",
    "pca = PCA(n_components=2)\n",
    "X_pca = pca.fit_transform(X_scaled)\n",
    "\n",
    "print(\"Variância explicada por cada componente:\", pca.explained_variance_ratio_)\n",
    "print(\"Variância total explicada:\", pca.explained_variance_ratio_.sum())"
   ]
  },
  {
   "cell_type": "markdown",
   "id": "c6177239",
   "metadata": {},
   "source": [
    "## Questão 24"
   ]
  },
  {
   "cell_type": "code",
   "execution_count": null,
   "id": "852f6ecb",
   "metadata": {},
   "outputs": [],
   "source": [
    "\n",
    "kmeans = KMeans(n_clusters=3, random_state=42)\n",
    "labels = kmeans.fit_predict(X_pca)\n",
    "\n",
    "plt.figure(figsize=(8,6))\n",
    "plt.scatter(X_pca[:,0], X_pca[:,1], c=labels, cmap=\"viridis\", alpha=0.5)\n",
    "plt.title(\"Clusters no espaço PCA (2 componentes)\")\n",
    "plt.xlabel(\"PCA 1\")\n",
    "plt.ylabel(\"PCA 2\")\n",
    "plt.colorbar(label=\"Cluster\")\n",
    "plt.show()"
   ]
  },
  {
   "cell_type": "markdown",
   "id": "08638354",
   "metadata": {},
   "source": [
    "## Questão 25"
   ]
  },
  {
   "cell_type": "code",
   "execution_count": null,
   "id": "9e0286b7",
   "metadata": {},
   "outputs": [],
   "source": [
    "\n",
    "import numpy as np\n",
    "from sklearn.preprocessing import PolynomialFeatures\n",
    "from sklearn.metrics import mean_squared_error\n",
    "\n",
    "X = df[[\"Voltage\"]].dropna()\n",
    "y = df[\"Global_active_power\"].dropna()\n",
    "\n",
    "valid = X.index.intersection(y.index)\n",
    "X = X.loc[valid]\n",
    "y = y.loc[valid]\n",
    "\n",
    "lin_reg = LinearRegression()\n",
    "lin_reg.fit(X, y)\n",
    "y_pred_lin = lin_reg.predict(X)\n",
    "\n",
    "poly = PolynomialFeatures(degree=2)\n",
    "X_poly = poly.fit_transform(X)\n",
    "\n",
    "poly_reg = LinearRegression()\n",
    "poly_reg.fit(X_poly, y)\n",
    "y_pred_poly = poly_reg.predict(X_poly)\n",
    "\n",
    "rmse_lin = mean_squared_error(y, y_pred_lin, squared=False)\n",
    "rmse_poly = mean_squared_error(y, y_pred_poly, squared=False)\n",
    "\n",
    "print(\"RMSE Linear:\", rmse_lin)\n",
    "print(\"RMSE Polinomial:\", rmse_poly)\n",
    "\n",
    "plt.figure(figsize=(8,5))\n",
    "plt.scatter(X, y, s=10, alpha=0.3, label=\"Dados reais\")\n",
    "plt.plot(X, y_pred_lin, color=\"red\", label=\"Regressão Linear\")\n",
    "plt.scatter(X, y_pred_poly, color=\"green\", s=1, alpha=0.3, label=\"Regressão Polinomial (grau 2)\")\n",
    "plt.xlabel(\"Voltage (V)\")\n",
    "plt.ylabel(\"Global Active Power (kW)\")\n",
    "plt.legend()\n",
    "plt.show()\n",
    "\n",
    "#PARTE 3 – Novo dataset Appliances Energy Prediction"
   ]
  },
  {
   "cell_type": "markdown",
   "id": "f1492e82",
   "metadata": {},
   "source": [
    "## Questão 26"
   ]
  },
  {
   "cell_type": "code",
   "execution_count": null,
   "id": "10c506f8",
   "metadata": {},
   "outputs": [],
   "source": [
    "\n",
    "df_app = pd.read_csv(\"energydata_complete.csv\")\n",
    "\n",
    "\n",
    "print(df_app.info())\n",
    "print(df_app.describe())"
   ]
  },
  {
   "cell_type": "markdown",
   "id": "6dc53d17",
   "metadata": {},
   "source": [
    "## Questão 27"
   ]
  },
  {
   "cell_type": "code",
   "execution_count": null,
   "id": "e58c51da",
   "metadata": {},
   "outputs": [],
   "source": [
    "\n",
    "plt.figure(figsize=(8,5))\n",
    "plt.hist(df_app[\"Appliances\"], bins=50, color=\"skyblue\", edgecolor=\"black\")\n",
    "plt.title(\"Distribuição do consumo de Appliances\")\n",
    "plt.xlabel(\"Consumo (Wh)\")\n",
    "plt.ylabel(\"Frequência\")\n",
    "plt.show()\n",
    "\n",
    "plt.figure(figsize=(12,5))\n",
    "plt.plot(df_app[\"Appliances\"][:500], color=\"orange\")  \n",
    "plt.title(\"Consumo de Appliances (exemplo)\")\n",
    "plt.xlabel(\"Tempo (registros)\")\n",
    "plt.ylabel(\"Consumo (Wh)\")\n",
    "plt.show()"
   ]
  },
  {
   "cell_type": "markdown",
   "id": "0910f5ed",
   "metadata": {},
   "source": [
    "## Questão 28"
   ]
  },
  {
   "cell_type": "code",
   "execution_count": null,
   "id": "fc9c4c3c",
   "metadata": {},
   "outputs": [],
   "source": [
    "\n",
    "corr = df_app.corr(numeric_only=True)[\"Appliances\"].sort_values(ascending=False)\n",
    "\n",
    "print(\"Correlação de Appliances com outras variáveis:\")\n",
    "print(corr)"
   ]
  },
  {
   "cell_type": "markdown",
   "id": "e715cf92",
   "metadata": {},
   "source": [
    "## Questão 29"
   ]
  },
  {
   "cell_type": "code",
   "execution_count": null,
   "id": "5f815944",
   "metadata": {},
   "outputs": [],
   "source": [
    "\n",
    "num_cols = df_app.select_dtypes(include=[\"float64\",\"int64\"]).columns\n",
    "\n",
    "scaler = MinMaxScaler()\n",
    "df_app_scaled = df_app.copy()\n",
    "df_app_scaled[num_cols] = scaler.fit_transform(df_app[num_cols])\n",
    "\n",
    "print(df_app_scaled[num_cols].head())"
   ]
  },
  {
   "cell_type": "markdown",
   "id": "dcae0908",
   "metadata": {},
   "source": [
    "## Questão 30"
   ]
  },
  {
   "cell_type": "code",
   "execution_count": null,
   "id": "c8328e53",
   "metadata": {},
   "outputs": [],
   "source": [
    "\n",
    "X = df_app_scaled[num_cols].drop(columns=[\"Appliances\"])  # remover target\n",
    "\n",
    "pca = PCA(n_components=2)\n",
    "X_pca = pca.fit_transform(X)\n",
    "\n",
    "print(\"Variância explicada:\", pca.explained_variance_ratio_)\n",
    "\n",
    "plt.figure(figsize=(8,6))\n",
    "plt.scatter(X_pca[:,0], X_pca[:,1], alpha=0.3, s=10, cmap=\"viridis\")\n",
    "plt.title(\"PCA - 2 Componentes\")\n",
    "plt.xlabel(\"Componente 1\")\n",
    "plt.ylabel(\"Componente 2\")\n",
    "plt.show()"
   ]
  },
  {
   "cell_type": "markdown",
   "id": "0090b7be",
   "metadata": {},
   "source": [
    "## Questão 31"
   ]
  },
  {
   "cell_type": "code",
   "execution_count": null,
   "id": "3fab7782",
   "metadata": {},
   "outputs": [],
   "source": [
    "\n",
    "from sklearn.model_selection import train_test_split\n",
    "from sklearn.metrics import mean_squared_error, r2_score\n",
    "\n",
    "X = df_app_scaled.drop(columns=[\"Appliances\"])\n",
    "y = df_app_scaled[\"Appliances\"]\n",
    "\n",
    "X_train, X_test, y_train, y_test = train_test_split(X, y, test_size=0.2, random_state=42)\n",
    "\n",
    "lin_reg = LinearRegression()\n",
    "lin_reg.fit(X_train, y_train)\n",
    "y_pred = lin_reg.predict(X_test)\n",
    "\n",
    "print(\"R²:\", r2_score(y_test, y_pred))\n",
    "print(\"RMSE:\", mean_squared_error(y_test, y_pred, squared=False))"
   ]
  },
  {
   "cell_type": "markdown",
   "id": "3eef2dcb",
   "metadata": {},
   "source": [
    "## Questão 32"
   ]
  },
  {
   "cell_type": "code",
   "execution_count": null,
   "id": "dd6f9e45",
   "metadata": {},
   "outputs": [],
   "source": [
    "\n",
    "from sklearn.ensemble import RandomForestRegressor\n",
    "\n",
    "rf = RandomForestRegressor(n_estimators=100, random_state=42)\n",
    "rf.fit(X_train, y_train)\n",
    "\n",
    "y_pred_rf = rf.predict(X_test)\n",
    "\n",
    "print(\"Random Forest - RMSE:\", mean_squared_error(y_test, y_pred_rf, squared=False))\n",
    "print(\"Random Forest - R²:\", r2_score(y_test, y_pred_rf))"
   ]
  },
  {
   "cell_type": "markdown",
   "id": "35cbf174",
   "metadata": {},
   "source": [
    "## Questão 33"
   ]
  },
  {
   "cell_type": "code",
   "execution_count": null,
   "id": "5d1b9383",
   "metadata": {},
   "outputs": [],
   "source": [
    "\n",
    "X_cluster = df_app_scaled.drop(columns=[\"Appliances\"])\n",
    "\n",
    "kmeans = KMeans(n_clusters=3, random_state=42)\n",
    "labels = kmeans.fit_predict(X_cluster)\n",
    "\n",
    "print(\"Centros dos clusters (3 grupos):\")\n",
    "print(kmeans.cluster_centers_)\n",
    "\n",
    "unique, counts = np.unique(labels, return_counts=True)\n",
    "print(\"Distribuição:\", dict(zip(unique, counts)))"
   ]
  },
  {
   "cell_type": "markdown",
   "id": "4436862f",
   "metadata": {},
   "source": [
    "## Questão 34"
   ]
  },
  {
   "cell_type": "code",
   "execution_count": null,
   "id": "8ee72535",
   "metadata": {},
   "outputs": [],
   "source": [
    "\n",
    "from sklearn.linear_model import LogisticRegression\n",
    "from sklearn.ensemble import RandomForestClassifier\n",
    "\n",
    "median_val = df_app[\"Appliances\"].median()\n",
    "df_app[\"High_Consumption\"] = (df_app[\"Appliances\"] > median_val).astype(int)\n",
    "\n",
    "X = df_app_scaled.drop(columns=[\"Appliances\"])\n",
    "y = df_app[\"High_Consumption\"]\n",
    "\n",
    "X_train, X_test, y_train, y_test = train_test_split(X, y, test_size=0.2, random_state=42)\n",
    "\n",
    "log_reg = LogisticRegression(max_iter=1000)\n",
    "log_reg.fit(X_train, y_train)\n",
    "y_pred_log = log_reg.predict(X_test)\n",
    "\n",
    "rf_clf = RandomForestClassifier(n_estimators=100, random_state=42)\n",
    "rf_clf.fit(X_train, y_train)\n",
    "y_pred_rf = rf_clf.predict(X_test)\n",
    "\n",
    "print(\"Logistic Regression - Acurácia:\", log_reg.score(X_test, y_test))\n",
    "print(\"Random Forest Classifier - Acurácia:\", rf_clf.score(X_test, y_test))"
   ]
  },
  {
   "cell_type": "markdown",
   "id": "bd75b976",
   "metadata": {},
   "source": [
    "## Questão 35"
   ]
  },
  {
   "cell_type": "code",
   "execution_count": null,
   "id": "dcfc0f8d",
   "metadata": {},
   "outputs": [],
   "source": [
    "\n",
    "from sklearn.metrics import confusion_matrix, classification_report\n",
    "\n",
    "print(\"Matriz de confusão - Logistic Regression\")\n",
    "print(confusion_matrix(y_test, y_pred_log))\n",
    "print(classification_report(y_test, y_pred_log))\n",
    "\n",
    "print(\"Matriz de confusão - Random Forest Classifier\")\n",
    "print(confusion_matrix(y_test, y_pred_rf))\n",
    "print(classification_report(y_test, y_pred_rf))\n",
    "\n",
    "#PARTE 4 - Exercícios no Orange Data Mining(Iremos comentar os passos a passos de cada ação)"
   ]
  },
  {
   "cell_type": "markdown",
   "id": "1edc486e",
   "metadata": {},
   "source": [
    "## Questão 36"
   ]
  },
  {
   "cell_type": "code",
   "execution_count": null,
   "id": "ff741438",
   "metadata": {},
   "outputs": [],
   "source": [
    "\n",
    "# Fiz a importação do dataset usando o widget CSV File Import no Orange.\n",
    "# Para visualizar o conteúdo, conectei o widget a um Data Table.\n",
    "# A tabela mostrou variáveis como Date, Time, Global_active_power, entre outras.\n",
    "# Percebi que o dataset é bem grande, com milhões de registros, por ter dados de vários anos.\n",
    "# As variáveis numéricas foram identificadas sem problemas, mas as de data e hora podem precisar de ajustes.\n"
   ]
  },
  {
   "cell_type": "markdown",
   "id": "8e9bea93",
   "metadata": {},
   "source": [
    "## Questão 37"
   ]
  },
  {
   "cell_type": "code",
   "execution_count": null,
   "id": "a6b1c7af",
   "metadata": {},
   "outputs": [],
   "source": [
    "# Utilizei o widget Sample Data para criar uma amostra de 1% dos registros.\n",
    "# Apesar de pequena, essa amostra se mostrou representativa por ainda conter milhares de dados.\n",
    "# Ao comparar a distribuição de Global_active_power da amostra com a da base completa usando o widget Distribution, notei que o formato do histograma era muito parecido.\n",
    "# Isso confirma que a amostragem preservou as características da distribuição original, com a maioria dos valores concentrada em consumos baixos e alguns picos."
   ]
  },
  {
   "cell_type": "markdown",
   "id": "fdb92d29",
   "metadata": {},
   "source": [
    "## Questão 38"
   ]
  },
  {
   "cell_type": "code",
   "execution_count": null,
   "id": "64c33c20",
   "metadata": {},
   "outputs": [],
   "source": [
    "# Para essa análise, usei o widget Distribution para criar um histograma do Global_active_power.\n",
    "# O gráfico mostrou que a maioria dos valores de consumo se concentra na faixa baixa, abaixo de 2 kW.\n",
    "# Observei que há uma cauda longa de valores, com alguns picos de consumo mais altos, mas em menor frequência.\n",
    "# Isso sugere que o consumo residencial é geralmente moderado, com picos ocasionais em momentos de uso mais intenso de aparelhos."
   ]
  },
  {
   "cell_type": "markdown",
   "id": "e2b7df0a",
   "metadata": {},
   "source": [
    "## Questão 39"
   ]
  },
  {
   "cell_type": "code",
   "execution_count": null,
   "id": "13a85d2b",
   "metadata": {},
   "outputs": [],
   "source": [
    "\n",
    "# No widget Scatter Plot, configurei o Voltage no eixo X e a Global_intensity no eixo Y.\n",
    "# O gráfico que apareceu mostrou uma correlação positiva clara, onde um aumento na intensidade elétrica geralmente corresponde a um aumento na tensão.\n",
    "# Embora os pontos não formem uma linha perfeitamente reta, a nuvem de dados sugere uma relação direta e visível entre as duas variáveis.\n",
    "# Essa relação faz sentido do ponto de vista da física: uma maior intensidade de corrente está diretamente ligada a um maior consumo de energia."
   ]
  },
  {
   "cell_type": "markdown",
   "id": "8e907843",
   "metadata": {},
   "source": [
    "## Questão 40"
   ]
  },
  {
   "cell_type": "code",
   "execution_count": null,
   "id": "60ccfc9c",
   "metadata": {},
   "outputs": [],
   "source": [
    "\n",
    "# Para essa etapa, utilizei o widget k-Means, configurando-o para criar 3 clusters.\n",
    "# Usei as variáveis Sub_metering_1, Sub_metering_2 e Sub_metering_3 como atributos para a clusterização.\n",
    "# Os resultados foram visualizados em um Scatter Plot, onde os pontos foram coloridos de acordo com o cluster a que pertenciam.\n",
    "# A análise revelou que cada grupo representa um padrão de consumo distinto, como um cluster com alto consumo na área 1, outro na área 2, e um terceiro com consumo mais distribuído.\n",
    "# Isso demonstra que a técnica de K-Means foi eficaz em identificar perfis energéticos variados.\n"
   ]
  }
 ],
 "metadata": {
  "language_info": {
   "name": "python"
  }
 },
 "nbformat": 4,
 "nbformat_minor": 5
}
